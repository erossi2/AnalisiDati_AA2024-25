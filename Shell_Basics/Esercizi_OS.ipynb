{
 "cells": [
  {
   "cell_type": "markdown",
   "id": "d2c0baef",
   "metadata": {},
   "source": [
    "## Primo metodo: chiamiamo la shell sottostante con il simbolo \"%\":\n",
    "\n",
    "Questo simbolo ci permetterà di accedere ai comandi di shell, con le limitazioni del contesto in cui ci troviamo.\n",
    "\n",
    "Per esempio: chiediamo la directory attuale col comando \"pwd\":"
   ]
  },
  {
   "cell_type": "code",
   "execution_count": 1,
   "id": "b48d82de",
   "metadata": {
    "scrolled": false
   },
   "outputs": [
    {
     "data": {
      "text/plain": [
       "'/mnt/c/Users/Orso/Desktop/ADFS_ER_24_25'"
      ]
     },
     "execution_count": 1,
     "metadata": {},
     "output_type": "execute_result"
    }
   ],
   "source": [
    "%pwd"
   ]
  },
  {
   "cell_type": "markdown",
   "id": "5cb178c1",
   "metadata": {},
   "source": [
    "Posso usare il % anche per girare altri files, altri notebook oppure eseguibili di python:"
   ]
  },
  {
   "cell_type": "code",
   "execution_count": 2,
   "id": "4a91d269",
   "metadata": {},
   "outputs": [
    {
     "name": "stdout",
     "output_type": "stream",
     "text": [
      "Hello world! \n",
      "This is a python executable file.\n"
     ]
    }
   ],
   "source": [
    "%run Hello_world.py"
   ]
  },
  {
   "cell_type": "code",
   "execution_count": 3,
   "id": "52f6ef2f",
   "metadata": {},
   "outputs": [
    {
     "name": "stdout",
     "output_type": "stream",
     "text": [
      "Hello world! \n",
      "This is a python3 script ran in a jupyter environment\n"
     ]
    }
   ],
   "source": [
    "%run Hello_world.ipynb"
   ]
  },
  {
   "cell_type": "markdown",
   "id": "2e3e7c4b",
   "metadata": {},
   "source": [
    "### Importiamo la libreria \"OS\":\n",
    " Una libreria che permette al programma di interfacciarsi in modo semplice col sistema operativo"
   ]
  },
  {
   "cell_type": "code",
   "execution_count": 4,
   "id": "92ff94e7",
   "metadata": {},
   "outputs": [],
   "source": [
    "import os"
   ]
  },
  {
   "cell_type": "markdown",
   "id": "d6d40af5",
   "metadata": {},
   "source": [
    "Che metodi ha os?\n",
    "\n",
    "permette ad esempio di trovare la directory attuale e il suo contenuto così\n"
   ]
  },
  {
   "cell_type": "code",
   "execution_count": 5,
   "id": "60abaafc",
   "metadata": {
    "scrolled": false
   },
   "outputs": [
    {
     "name": "stdout",
     "output_type": "stream",
     "text": [
      "/mnt/c/Users/Orso/Desktop/ADFS_ER_24_25\n",
      "['.ipynb_checkpoints', 'Esercizi_OS.ipynb', 'Hello_world.ipynb', 'Hello_world.py']\n"
     ]
    }
   ],
   "source": [
    "print(os.getcwd())\n",
    "print(os.listdir())"
   ]
  },
  {
   "cell_type": "markdown",
   "id": "91ca8884",
   "metadata": {},
   "source": [
    "In un codice python, possiamo possiamo in teoria chiamare ogni comando con:\n",
    "\n",
    "    > os.system(\"comando\")\n",
    "    \n",
    "Da notebook si può fare però non sempre funziona bene:\n"
   ]
  },
  {
   "cell_type": "code",
   "execution_count": 6,
   "id": "84dede2f",
   "metadata": {},
   "outputs": [
    {
     "name": "stdout",
     "output_type": "stream",
     "text": [
      "/home/orso/Desktop/ADFS_ER_24_25\n"
     ]
    },
    {
     "data": {
      "text/plain": [
       "0"
      ]
     },
     "execution_count": 6,
     "metadata": {},
     "output_type": "execute_result"
    }
   ],
   "source": [
    "os.system(\"pwd\")"
   ]
  },
  {
   "cell_type": "markdown",
   "id": "c4e32cde",
   "metadata": {},
   "source": [
    "Meglio usarlo solo negli eseguibili "
   ]
  },
  {
   "cell_type": "markdown",
   "id": "9382430d",
   "metadata": {},
   "source": [
    "## Esercizi pt. 1:\n",
    "\n",
    "1) Creiamo un eseguibile di shell come dall'esercizio della prof. Rossi\n",
    "\n",
    "2) Per chi lo ha già fatto... facciamo le stesse operazioni in un file di python e giriamolo da un notebook separato!"
   ]
  },
  {
   "cell_type": "code",
   "execution_count": null,
   "id": "fe59996c",
   "metadata": {},
   "outputs": [],
   "source": []
  }
 ],
 "metadata": {
  "kernelspec": {
   "display_name": "Python 3 (ipykernel)",
   "language": "python",
   "name": "python3"
  },
  "language_info": {
   "codemirror_mode": {
    "name": "ipython",
    "version": 3
   },
   "file_extension": ".py",
   "mimetype": "text/x-python",
   "name": "python",
   "nbconvert_exporter": "python",
   "pygments_lexer": "ipython3",
   "version": "3.10.4"
  }
 },
 "nbformat": 4,
 "nbformat_minor": 5
}
