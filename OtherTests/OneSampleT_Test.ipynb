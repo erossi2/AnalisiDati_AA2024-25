{
  "nbformat": 4,
  "nbformat_minor": 0,
  "metadata": {
    "colab": {
      "provenance": []
    },
    "kernelspec": {
      "name": "python3",
      "display_name": "Python 3"
    },
    "language_info": {
      "name": "python"
    }
  },
  "cells": [
    {
      "cell_type": "markdown",
      "source": [
        "**One Sample T-Test in Python**\n",
        "\n",
        "Very simple application of the One Sample T-Test"
      ],
      "metadata": {
        "id": "0ROKdsK70ntY"
      }
    },
    {
      "cell_type": "markdown",
      "source": [
        "\n",
        "\n",
        "*   import the scipy.stats module\n",
        "*   define the sample and the mean of the population\n",
        "*   use the ttest_1samp function to perform the one sample t-test\n",
        "*   interpret the results.\n",
        "\n",
        "\n",
        "\n",
        "\n"
      ],
      "metadata": {
        "id": "HV9Rjr_003Lt"
      }
    },
    {
      "cell_type": "code",
      "execution_count": 3,
      "metadata": {
        "colab": {
          "base_uri": "https://localhost:8080/"
        },
        "id": "MLeudhLS0aWh",
        "outputId": "fa077469-f964-4cc4-8232-bc62b4a2023b"
      },
      "outputs": [
        {
          "output_type": "stream",
          "name": "stdout",
          "text": [
            "Fail to reject the null hypothesis. No significant differences exist between the sample mean and the population mean.\n"
          ]
        }
      ],
      "source": [
        "import scipy.stats as stats\n",
        "sample = [2, 3, 4, 5, 6, 7, 8, 9, 10]\n",
        "population_mean = 5\n",
        "t_statistic, p_value = stats.ttest_1samp(sample, population_mean)\n",
        "if p_value < 0.05:\n",
        "    print(\"Reject the null hypothesis. Significant differences exist between the sample mean and the population mean.\")\n",
        "else:\n",
        "    print(\"Fail to reject the null hypothesis. No significant differences exist between the sample mean and the population mean.\")"
      ]
    },
    {
      "cell_type": "code",
      "source": [
        "sample2 = [2, 3, 4, 5, 6, 7, 8, 9, 10]\n",
        "population_mean = 2\n",
        "t_statistic, p_value = stats.ttest_1samp(sample, population_mean)\n",
        "if p_value < 0.05:\n",
        "    print(\"Reject the null hypothesis. Significant differences exist between the sample mean and the population mean.\")\n",
        "else:\n",
        "    print(\"Fail to reject the null hypothesis. No significant differences exist between the sample mean and the population mean.\")"
      ],
      "metadata": {
        "colab": {
          "base_uri": "https://localhost:8080/"
        },
        "id": "aHReTA_L2TSS",
        "outputId": "f064cb6f-2c03-4dfa-de88-bc8fed8a0c78"
      },
      "execution_count": 5,
      "outputs": [
        {
          "output_type": "stream",
          "name": "stdout",
          "text": [
            "Reject the null hypothesis. Significant differences exist between the sample mean and the population mean.\n"
          ]
        }
      ]
    },
    {
      "cell_type": "markdown",
      "source": [],
      "metadata": {
        "id": "wg0CAZR71Swk"
      }
    }
  ]
}