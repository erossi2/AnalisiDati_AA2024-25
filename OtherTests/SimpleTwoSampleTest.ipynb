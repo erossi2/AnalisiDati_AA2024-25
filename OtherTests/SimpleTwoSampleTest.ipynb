{
  "nbformat": 4,
  "nbformat_minor": 0,
  "metadata": {
    "colab": {
      "provenance": []
    },
    "kernelspec": {
      "name": "python3",
      "display_name": "Python 3"
    },
    "language_info": {
      "name": "python"
    }
  },
  "cells": [
    {
      "cell_type": "code",
      "execution_count": 17,
      "metadata": {
        "colab": {
          "base_uri": "https://localhost:8080/"
        },
        "id": "A6YbDmNb5xDw",
        "outputId": "c12f66ac-ee01-4079-b121-f2d9876ac4e8"
      },
      "outputs": [
        {
          "output_type": "stream",
          "name": "stdout",
          "text": [
            "group1 variance:  7.727500000000001 group2 variance:  12.260000000000002\n",
            "t_statistic =  -0.6337397070250238 p_value =  0.5300471010405257\n",
            "We accept the null hypothesis\n"
          ]
        }
      ],
      "source": [
        "# Import library\n",
        "import scipy.stats as stats\n",
        "import numpy as np\n",
        "\n",
        "# Creating data groups\n",
        "data_group1 = np.array([14, 15, 15, 16, 13, 8, 14, 17, 16, 14, 19, 20, 21, 15, 15, 16, 16, 13, 14, 12])\n",
        "\n",
        "data_group2 = np.array([15, 17, 14, 17, 14, 8, 12, 19, 19, 14, 17, 22, 24, 16,13, 16, 13, 18, 15, 13])\n",
        "\n",
        "# Print the variance of both data groups\n",
        "print(\"group1 variance: \",np.var(data_group1),\"group2 variance: \", np.var(data_group2))\n",
        "\n",
        "# Perform the two sample t-test with equal variances\n",
        "t_statistic, p_value = stats.ttest_ind(a=data_group1, b=data_group2, equal_var=True)\n",
        "print(\"t_statistic = \",t_statistic, \"p_value = \",p_value)\n",
        "\n",
        "\n",
        "if p_value < 0.05:\n",
        "    print(\"We reject the null hypothesis\")\n",
        "else:\n",
        "    print(\"We accept the null hypothesis\")\n",
        "\n"
      ]
    }
  ]
}