{
  "nbformat": 4,
  "nbformat_minor": 0,
  "metadata": {
    "colab": {
      "provenance": []
    },
    "kernelspec": {
      "name": "python3",
      "display_name": "Python 3"
    },
    "language_info": {
      "name": "python"
    }
  },
  "cells": [
    {
      "cell_type": "markdown",
      "source": [
        "Two Sample T-Test in Python\n",
        "\n",
        "Very simple application of the Two Sample T-Test\n",
        "\n",
        "*   import the scipy.stats module\n",
        "*   define the two samples and evaluate the variance\n",
        "*   use the stats.ttest_ind function to perform the two samples t-test\n",
        "*   interpret the results.\n"
      ],
      "metadata": {
        "id": "PVhRSPOmBDMm"
      }
    },
    {
      "cell_type": "code",
      "execution_count": 29,
      "metadata": {
        "colab": {
          "base_uri": "https://localhost:8080/"
        },
        "id": "A6YbDmNb5xDw",
        "outputId": "a9047eee-a2e6-4ff3-9573-6d545b834d45"
      },
      "outputs": [
        {
          "output_type": "stream",
          "name": "stdout",
          "text": [
            "group1 variance:  41.37476640999999 group2 variance:  124.42715389000007\n",
            "t_statistic =  0.6531479162158739 p_value =  0.5219170107019715\n",
            "We accept the null hypothesis\n"
          ]
        }
      ],
      "source": [
        "# Import library\n",
        "import scipy.stats as stats\n",
        "import numpy as np\n",
        "\n",
        "data_group1 = np.array([160, 150, 160, 156.12, 163.24,\n",
        "                        160.56, 168.56, 174.12,\n",
        "                        167.123, 165.12])\n",
        "data_group2 = np.array([157.97, 146, 140.2, 170.15,\n",
        "                        167.34, 176.123, 162.35, 159.123,\n",
        "                        169.43, 148.123])\n",
        "\n",
        "# Print the variance of both data groups\n",
        "print(\"group1 variance: \",np.var(data_group1),\"group2 variance: \", np.var(data_group2))\n",
        "\n",
        "# Perform the two sample t-test with equal variances\n",
        "t_statistic, p_value = stats.ttest_ind(a=data_group1, b=data_group2, equal_var=True)\n",
        "print(\"t_statistic = \",t_statistic, \"p_value = \",p_value)\n",
        "\n",
        "\n",
        "if p_value < 0.05:\n",
        "    print(\"We reject the null hypothesis\")\n",
        "else:\n",
        "    print(\"We accept the null hypothesis\")\n",
        "\n"
      ]
    },
    {
      "cell_type": "markdown",
      "source": [
        "**Method 2: Two-Sample T-Test with Pingouin**\n",
        "\n",
        "[Pingouin](https://pingouin-stats.org/build/html/index.html) is an open-source statistical package written in Python 3 and based mostly on Pandas and NumPy.\n",
        "Pingouin is designed for users who want simple yet exhaustive stats functions.\n",
        "\n",
        "For example, the ttest_ind function of SciPy returns only the T-value and the p-value. By contrast, the ttest function of Pingouin returns the T-value, the p-value, the degrees of freedom, the effect size (Cohen’s d), the 95% confidence intervals of the difference in means, the statistical power and the Bayes Factor (BF10) of the test.\n",
        "\n",
        "Syntax: ttest(data_group1, data_group2, correction = True/False)\n",
        "*   install pingouin: !pip install pingouin\n",
        "*   import pingouin\n",
        "*   define the two samples\n",
        "*   use the stats.ttest_ind function to perform the two samples t-test\n",
        "*   interpret the results.\n",
        "\n",
        "\n",
        "correction = “True”: The standard independent two sample t-test will be conducted by taking into consideration the homogeneity assumption.\n",
        "\n",
        "\n",
        "correction = “False”: The Welch’s t-test will be conducted by not taking into consideration the homogeneity assumption.\n",
        "\n",
        "\n",
        "The result of the test is a pandas.DataFrame a Two-dimensional, size-mutable, potentially heterogeneous tabular data. Data structure also contains labeled axes (rows and columns). Arithmetic operations align on both row and column labels. Can be thought of as a dict-like container for Series objects. The primary pandas data structure.\n",
        ""
      ],
      "metadata": {
        "id": "c7B5C_BM9C9D"
      }
    },
    {
      "cell_type": "code",
      "source": [
        "# Python program to conduct two-sample\n",
        "# T-test using pingouin library\n",
        "!pip install pingouin\n",
        "# Importing library\n",
        "from statsmodels.stats.weightstats import ttest_ind\n",
        "import numpy as np\n",
        "import pingouin as pg\n",
        "\n",
        "# Creating data groups\n",
        "data_group1 = np.array([160, 150, 160, 156.12, 163.24,\n",
        "                        160.56, 168.56, 174.12,\n",
        "                        167.123, 165.12])\n",
        "data_group2 = np.array([157.97, 146, 140.2, 170.15,\n",
        "                        167.34, 176.123, 162.35, 159.123,\n",
        "                        169.43, 148.123])\n",
        "\n",
        "# Conducting two-sample ttest\n",
        "result = pg.ttest(data_group1,\n",
        "                  data_group2,\n",
        "                  correction=True)\n",
        "# the result of the test is a pandas.DataFrame\n",
        "\n",
        "# Print the result\n",
        "print(result)\n",
        "\n",
        "print(\"Another way to print the results \")\n",
        "print(result.T)\n",
        "\n",
        "for idx, row in result.iterrows():\n",
        "    print(row['p-val'])\n",
        "    if row['p-val'] < 0.05:\n",
        "        print(\"We reject the null hypothesis\")\n",
        "    else:\n",
        "        print(\"We accept the null hypothesis\")\n",
        "\n",
        "\n"
      ],
      "metadata": {
        "colab": {
          "base_uri": "https://localhost:8080/"
        },
        "id": "CrmUpy78GQpP",
        "outputId": "7e50cd5f-a0ae-4be0-fdf0-9ab9d71275bb"
      },
      "execution_count": 30,
      "outputs": [
        {
          "output_type": "stream",
          "name": "stdout",
          "text": [
            "Requirement already satisfied: pingouin in /usr/local/lib/python3.10/dist-packages (0.5.5)\n",
            "Requirement already satisfied: matplotlib in /usr/local/lib/python3.10/dist-packages (from pingouin) (3.8.0)\n",
            "Requirement already satisfied: numpy in /usr/local/lib/python3.10/dist-packages (from pingouin) (1.26.4)\n",
            "Requirement already satisfied: pandas>=1.5 in /usr/local/lib/python3.10/dist-packages (from pingouin) (2.2.2)\n",
            "Requirement already satisfied: pandas-flavor in /usr/local/lib/python3.10/dist-packages (from pingouin) (0.6.0)\n",
            "Requirement already satisfied: scikit-learn>=1.2 in /usr/local/lib/python3.10/dist-packages (from pingouin) (1.5.2)\n",
            "Requirement already satisfied: scipy in /usr/local/lib/python3.10/dist-packages (from pingouin) (1.13.1)\n",
            "Requirement already satisfied: seaborn in /usr/local/lib/python3.10/dist-packages (from pingouin) (0.13.2)\n",
            "Requirement already satisfied: statsmodels in /usr/local/lib/python3.10/dist-packages (from pingouin) (0.14.4)\n",
            "Requirement already satisfied: tabulate in /usr/local/lib/python3.10/dist-packages (from pingouin) (0.9.0)\n",
            "Requirement already satisfied: python-dateutil>=2.8.2 in /usr/local/lib/python3.10/dist-packages (from pandas>=1.5->pingouin) (2.8.2)\n",
            "Requirement already satisfied: pytz>=2020.1 in /usr/local/lib/python3.10/dist-packages (from pandas>=1.5->pingouin) (2024.2)\n",
            "Requirement already satisfied: tzdata>=2022.7 in /usr/local/lib/python3.10/dist-packages (from pandas>=1.5->pingouin) (2024.2)\n",
            "Requirement already satisfied: joblib>=1.2.0 in /usr/local/lib/python3.10/dist-packages (from scikit-learn>=1.2->pingouin) (1.4.2)\n",
            "Requirement already satisfied: threadpoolctl>=3.1.0 in /usr/local/lib/python3.10/dist-packages (from scikit-learn>=1.2->pingouin) (3.5.0)\n",
            "Requirement already satisfied: contourpy>=1.0.1 in /usr/local/lib/python3.10/dist-packages (from matplotlib->pingouin) (1.3.1)\n",
            "Requirement already satisfied: cycler>=0.10 in /usr/local/lib/python3.10/dist-packages (from matplotlib->pingouin) (0.12.1)\n",
            "Requirement already satisfied: fonttools>=4.22.0 in /usr/local/lib/python3.10/dist-packages (from matplotlib->pingouin) (4.54.1)\n",
            "Requirement already satisfied: kiwisolver>=1.0.1 in /usr/local/lib/python3.10/dist-packages (from matplotlib->pingouin) (1.4.7)\n",
            "Requirement already satisfied: packaging>=20.0 in /usr/local/lib/python3.10/dist-packages (from matplotlib->pingouin) (24.2)\n",
            "Requirement already satisfied: pillow>=6.2.0 in /usr/local/lib/python3.10/dist-packages (from matplotlib->pingouin) (11.0.0)\n",
            "Requirement already satisfied: pyparsing>=2.3.1 in /usr/local/lib/python3.10/dist-packages (from matplotlib->pingouin) (3.2.0)\n",
            "Requirement already satisfied: xarray in /usr/local/lib/python3.10/dist-packages (from pandas-flavor->pingouin) (2024.10.0)\n",
            "Requirement already satisfied: patsy>=0.5.6 in /usr/local/lib/python3.10/dist-packages (from statsmodels->pingouin) (1.0.1)\n",
            "Requirement already satisfied: six>=1.5 in /usr/local/lib/python3.10/dist-packages (from python-dateutil>=2.8.2->pandas>=1.5->pingouin) (1.16.0)\n",
            "               T        dof alternative     p-val           CI95%   cohen-d  \\\n",
            "T-test  0.653148  14.389477   two-sided  0.523961  [-6.38, 11.99]  0.292097   \n",
            "\n",
            "         BF10     power  \n",
            "T-test  0.462  0.094912  \n",
            "Another way to print the results \n",
            "                     T-test\n",
            "T                  0.653148\n",
            "dof               14.389477\n",
            "alternative       two-sided\n",
            "p-val              0.523961\n",
            "CI95%        [-6.38, 11.99]\n",
            "cohen-d            0.292097\n",
            "BF10                  0.462\n",
            "power              0.094912\n",
            "0.5239605117916051\n",
            "We accept the null hypothesis\n"
          ]
        }
      ]
    },
    {
      "cell_type": "markdown",
      "source": [
        "**Interpretation of the results with pengouin**\n",
        "\n",
        "The p-value of the test comes out to be equal to 0.523, which is greater than the significance level alpha (that is, 0.05). This implies that we can say that the two samples are part of the same population so we accept the null hypothesis. The Cohen’s D that is obtained in a t-test is in terms of the relative strength. According to **Cohen**:\n",
        "\n",
        "*   cohen-d = 0.2 is considered as the ‘small’ effect size\n",
        "*   cohen-d = 0.5 is considered as the ‘medium’ effect size\n",
        "*   cohen-d = 0.8 is considered as the ‘large’ effect size\n",
        "\n",
        "It implies that even if the two data groups’ means don’t differ by 0.2 standard deviations or more then the difference is trivial, even if it is statistically significant."
      ],
      "metadata": {
        "id": "PVLbxqHFBmU0"
      }
    },
    {
      "cell_type": "markdown",
      "source": [
        "**Method 3: Two-Sample T-Test with Statsmodels**\n",
        "\n",
        "[statsmodels](https://www.statsmodels.org/stable/index.html) is a Python module that provides classes and functions for the estimation of many different statistical models, as well as for conducting statistical tests, and statistical data exploration. An extensive list of result statistics are available for each estimator. The results are tested against existing statistical packages to ensure that they are correct. The package is released under the open source Modified BSD (3-clause) license. The online documentation is hosted at statsmodels.org.\n",
        "\n",
        "Firstly, let’s create the sample data. We are creating two arrays and now let’s perform the two-sample T-test. Statsmodels library provides ttest_ind() function to conduct two-sample T-Test"
      ],
      "metadata": {
        "id": "DvauvNTUKm5e"
      }
    },
    {
      "cell_type": "code",
      "source": [
        "# Python program to conduct\n",
        "# two-sample t-test using statsmodels\n",
        "\n",
        "# Importing library\n",
        "from statsmodels.stats.weightstats import ttest_ind\n",
        "import numpy as np\n",
        "import pingouin as pg\n",
        "\n",
        "# Creating data groups\n",
        "data_group1 = np.array([160, 150, 160, 156.12,\n",
        "                        163.24,\n",
        "                        160.56, 168.56, 174.12,\n",
        "                        167.123, 165.12])\n",
        "data_group2 = np.array([157.97, 146, 140.2, 170.15,\n",
        "                        167.34, 176.123, 162.35,\n",
        "                        159.123, 169.43, 148.123])\n",
        "\n",
        "# Conducting two-sample ttest\n",
        "p_value = ttest_ind(data_group1, data_group2)\n",
        "\n",
        "print(\"t_statistic = \",t_statistic, \"p_value = \",p_value)\n",
        "\n",
        "if p_value[1] < 0.05:\n",
        "    print(\"We reject the null hypothesis\")\n",
        "else:\n",
        "    print(\"We accept the null hypothesis\")\n",
        ""
      ],
      "metadata": {
        "colab": {
          "base_uri": "https://localhost:8080/"
        },
        "id": "epmVPjzxG-O1",
        "outputId": "1b79ebe4-369b-4443-b910-a0640062cb29"
      },
      "execution_count": 12,
      "outputs": [
        {
          "output_type": "stream",
          "name": "stdout",
          "text": [
            "t_statistic =  -0.6337397070250238 p_value =  (0.6531479162158739, 0.5219170107019715, 18.0)\n",
            "We accept the null hypothesis\n"
          ]
        }
      ]
    }
  ]
}