{
 "cells": [
  {
   "cell_type": "markdown",
   "metadata": {},
   "source": [
    "# p-values from n-sigma and vice versa"
   ]
  },
  {
   "cell_type": "code",
   "execution_count": 26,
   "metadata": {},
   "outputs": [],
   "source": [
    "import scipy.stats as st"
   ]
  },
  {
   "cell_type": "code",
   "execution_count": 36,
   "metadata": {},
   "outputs": [],
   "source": [
    "# define p-value\n",
    "p = 0.0456"
   ]
  },
  {
   "cell_type": "code",
   "execution_count": 37,
   "metadata": {},
   "outputs": [
    {
     "name": "stdout",
     "output_type": "stream",
     "text": [
      " p-value = 0.0456, n_sigma_one_tailed = 1.6891, n_sigma_two_tailed = 1.9991\n"
     ]
    }
   ],
   "source": [
    "# calculate number of standard deviations (n-sigma) from p-value\n",
    "\n",
    "# one-tailed\n",
    "n_sigma_one_tailed = st.norm.ppf(1-p)\n",
    "\n",
    "# two-tailed\n",
    "n_sigma_two_tailed = st.norm.ppf(1-p/2.)\n",
    "\n",
    "print(f\" p-value = {p}, n_sigma_one_tailed = {n_sigma_one_tailed:.4f}, n_sigma_two_tailed = {n_sigma_two_tailed:.4f}\")"
   ]
  },
  {
   "cell_type": "code",
   "execution_count": 43,
   "metadata": {},
   "outputs": [
    {
     "name": "stdout",
     "output_type": "stream",
     "text": [
      " n-sigma = 5, p_value_one_tailed = 2.9e-07, p_value_two_tailed = 5.7e-07\n"
     ]
    }
   ],
   "source": [
    "# p-value from number of standard deviations (n-sigma)\n",
    "n_sigma = 5\n",
    "\n",
    "# one-tailed\n",
    "p_value_one_tailed = 1 - st.norm.cdf(n_sigma)\n",
    "\n",
    "# two-tailed\n",
    "p_value_two_tailed = 2. * (1 - st.norm.cdf(n_sigma))\n",
    "\n",
    "print(f\" n-sigma = {n_sigma}, p_value_one_tailed = {p_value_one_tailed:.2g}, p_value_two_tailed = {p_value_two_tailed:.2g}\")"
   ]
  },
  {
   "cell_type": "code",
   "execution_count": 48,
   "metadata": {},
   "outputs": [
    {
     "name": "stdout",
     "output_type": "stream",
     "text": [
      "1 0.16\n",
      "2 0.023\n",
      "3 0.0013\n",
      "4 3.2e-05\n",
      "5 2.9e-07\n"
     ]
    }
   ],
   "source": [
    "for nsigma in [1, 2, 3, 4, 5]:\n",
    "    p_value_one_tailed = 1 - st.norm.cdf(nsigma)\n",
    "    print(f\"{nsigma} {p_value_one_tailed:.2g}\")"
   ]
  },
  {
   "cell_type": "code",
   "execution_count": null,
   "metadata": {},
   "outputs": [],
   "source": []
  }
 ],
 "metadata": {
  "kernelspec": {
   "display_name": "Python 3",
   "language": "python",
   "name": "python3"
  },
  "language_info": {
   "codemirror_mode": {
    "name": "ipython",
    "version": 3
   },
   "file_extension": ".py",
   "mimetype": "text/x-python",
   "name": "python",
   "nbconvert_exporter": "python",
   "pygments_lexer": "ipython3",
   "version": "3.8.5"
  }
 },
 "nbformat": 4,
 "nbformat_minor": 4
}
