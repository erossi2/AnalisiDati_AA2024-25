{
  "nbformat": 4,
  "nbformat_minor": 0,
  "metadata": {
    "colab": {
      "provenance": []
    },
    "kernelspec": {
      "name": "python3",
      "display_name": "Python 3"
    },
    "language_info": {
      "name": "python"
    }
  },
  "cells": [
    {
      "cell_type": "markdown",
      "source": [
        "**Simple code to evaluate the Baysian Upper Limit for a Poisson variable n and for a value of alpha =0.05**"
      ],
      "metadata": {
        "id": "fl6msKuSxtiY"
      }
    },
    {
      "cell_type": "code",
      "execution_count": 5,
      "metadata": {
        "id": "2qyrTt4wX1Jg"
      },
      "outputs": [],
      "source": [
        "import numpy as np\n",
        "from scipy.stats import gamma\n",
        "from scipy import stats"
      ]
    },
    {
      "cell_type": "code",
      "source": [
        "def upper_limits(alpha,n,b):\n",
        "  \"\"\"Baysian Poisson Upper limit\n",
        "1-alpha: confidence level\n",
        "n: observed counts\n",
        "b: background \"\"\"\n",
        "\n",
        "  return gamma.ppf(1.-alpha,(n+1))-b\n",
        "\n",
        "def upper_limits_Chi2(alpha,n,b):\n",
        "  \"\"\"Baysian Poisson Upper limit\n",
        "1-alpha: confidence level\n",
        "n: observed counts\n",
        "b: background \"\"\"\n",
        "\n",
        "  return 1/2*stats.chi2.ppf(1.-alpha,2*(n+1))-b\n",
        "\n",
        "\n",
        "print(r'n b  s_up  s_up_Chi2')\n",
        "print(\"____________________\")\n",
        "\n",
        "alpha=0.1\n",
        "for n in range(10):\n",
        "  print(f\"{n} {0}  {upper_limits(alpha,n,0):.2f}  {upper_limits_Chi2(alpha,n,0):.2f}\")"
      ],
      "metadata": {
        "colab": {
          "base_uri": "https://localhost:8080/"
        },
        "id": "5lp1qjH8YDTT",
        "outputId": "a2df6019-e490-4c78-e380-e779e4a5bda3"
      },
      "execution_count": 7,
      "outputs": [
        {
          "output_type": "stream",
          "name": "stdout",
          "text": [
            "n b  s_up  s_up_Chi2\n",
            "____________________\n",
            "0 0  2.30  2.30\n",
            "1 0  3.89  3.89\n",
            "2 0  5.32  5.32\n",
            "3 0  6.68  6.68\n",
            "4 0  7.99  7.99\n",
            "5 0  9.27  9.27\n",
            "6 0  10.53  10.53\n",
            "7 0  11.77  11.77\n",
            "8 0  12.99  12.99\n",
            "9 0  14.21  14.21\n"
          ]
        }
      ]
    },
    {
      "cell_type": "markdown",
      "source": [],
      "metadata": {
        "id": "ligUjftvxodl"
      }
    }
  ]
}