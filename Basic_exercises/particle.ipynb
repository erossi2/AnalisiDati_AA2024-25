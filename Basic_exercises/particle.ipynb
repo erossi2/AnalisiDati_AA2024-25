{
  "nbformat": 4,
  "nbformat_minor": 0,
  "metadata": {
    "colab": {
      "provenance": []
    },
    "kernelspec": {
      "name": "python3",
      "display_name": "Python 3"
    },
    "language_info": {
      "name": "python"
    }
  },
  "cells": [
    {
      "cell_type": "markdown",
      "source": [
        "Le classi sono un comodo strumento che ci permette di raggruppare variabili e funzioni in maniera logica e riutilizzabile permettendoci di gestire progetti anche di grosse dimensioni in maniera molto semplice. Le funzione associate alla classe sono chiamate metodi.\n",
        "\n",
        "\n",
        "In Python, per creare una classe Studente ci basta fare:\n",
        "\n",
        "**class myClass:**\n",
        "\n",
        "Una volta creata, possiamo iniziare ad aggiungere attributi e metodi alla classe. Per aggiungere queste caratteristiche usiamo una funzione speciale, chiamata metodo **__init**, che significa inizializzatore, conosciuto anche come metodo costruttore. Il suo scopo è quello di costruire gli oggetti.\n",
        "\n",
        "Quando creiamo dei metodi all'interno della classe, tra le parentesi di questi metodi passiamo, come primo parametro, l'istanza della classe, e la chiamiamo per convenzione **self** che rappresenta una referenza a ciascun oggetto creato dalla classe. Il metodo init inizializza e attiva le varie proprietà di ciascun self, quindi di ciascun oggetto o istanza."
      ],
      "metadata": {
        "id": "OIIBYiNE6FYD"
      }
    },
    {
      "cell_type": "code",
      "execution_count": 34,
      "metadata": {
        "colab": {
          "base_uri": "https://localhost:8080/"
        },
        "id": "x_JYEHo35ONf",
        "outputId": "21752e22-65ce-42ee-9e0d-214ae3029c92"
      },
      "outputs": [
        {
          "output_type": "stream",
          "name": "stdout",
          "text": [
            "15.588457268119896\n",
            "(7, 7, 8, 15.588457268119896)\n",
            "\n",
            " Charatcteristics of the particle:\n",
            " px= 7\n",
            " py= 7\n",
            " pz= 8\n",
            " m= 9\n",
            " \n",
            " momentum-energy four-vector:\n",
            " e=15.588457268119896 \n",
            " p4=(7, 7, 8, 15.588457268119896) \n"
          ]
        }
      ],
      "source": [
        "import math\n",
        "\n",
        "#crea la classe\n",
        "class particle:\n",
        "  #per aggiungere caratteristiche usiamo il metodo init\n",
        "  #primo parametro l'istanza della classe e la chiamiamo per convenzione self\n",
        "  def __init__(self,px,py,pz,m):\n",
        "    self.px = px\n",
        "    self.py = py\n",
        "    self.pz = pz\n",
        "    self.m = m\n",
        "    self.e = math.sqrt(m**2+(px**2+py**2+pz**2))\n",
        "    self.p4=(self.px,self.py,self.pz,self.e)\n",
        "  def particle_p4(self,lorentz_p4):\n",
        "    return particle(px=lorentz_p4.px,py=lorentz_p4.py,pz=lorentz_p4.pz, e=lorentz_p4.E)\n",
        "  def init(self, lorentz_p4):\n",
        "    self.px = lorentz_p4.px\n",
        "    self.py = lorentz_p4.py\n",
        "    self.pz = lorentz_p4.pz\n",
        "    self.e = lorentz_p4.E\n",
        "    self.p4 = (self.px, self.py, self.pz, self.e)\n",
        "  def particle_info(self):\n",
        "    return f\"\\n Charatcteristics of the particle:\\n px= {self.px}\\n py= {self.py}\\n pz= {self.pz}\\n m= {self.m}\\n \\n momentum-energy four-vector:\\n e={self.e} \\n p4={self.p4} \"\n",
        "# aggiungo le caratteristiche della particella (px,py,pz,m)\n",
        "x=particle(7,7,8,9)\n",
        "# mi faccio stampare a schermo l'energia e il quadrimpulso\n",
        "print(x.e)\n",
        "print(x.p4)\n",
        "# mi faccio stampare a schermo l'uscita del metodo particle_info()\n",
        "print(x.particle_info())\n",
        "#"
      ]
    }
  ]
}