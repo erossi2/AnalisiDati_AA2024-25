{
  "nbformat": 4,
  "nbformat_minor": 0,
  "metadata": {
    "colab": {
      "provenance": []
    },
    "kernelspec": {
      "name": "python3",
      "display_name": "Python 3"
    },
    "language_info": {
      "name": "python"
    }
  },
  "cells": [
    {
      "cell_type": "code",
      "source": [
        "import random\n",
        "import math\n",
        "from PIL import Image\n",
        "\n",
        "def get_random_coord(radius):\n",
        "    return random.uniform(-radius, radius)\n",
        "\n",
        "def calculate_area_monte_carlo(radius):\n",
        "    diameter = radius * 2\n",
        "    image = Image.new(\"RGB\", (diameter, diameter), (255, 255, 255))\n",
        "    in_colour = (255, 0, 0) # red\n",
        "    out_colour = (0, 0, 255) # blue\n",
        "\n",
        "    total_in_circle = 0\n",
        "\n",
        "    for i in range(0, 10000000):\n",
        "        (x, y) = get_random_coord(radius), get_random_coord(radius)\n",
        "        in_circle = x ** 2 + y ** 2 <= radius ** 2\n",
        "\n",
        "        if in_circle:\n",
        "            total_in_circle += 1\n",
        "            colour = in_colour\n",
        "        else:\n",
        "            colour = out_colour\n",
        "\n",
        "        image.putpixel((math.floor(x + radius), math.floor(y + radius)), colour)\n",
        "\n",
        "        if i in [9999, 99999, 150000, 999999, 1500000, 9999999]:\n",
        "            approximate_area = (2 * radius) ** 2 * total_in_circle / i\n",
        "            print(f\"Area ({i} samples): {approximate_area}\")\n",
        "            image.save(f'circle_{i}.png')\n",
        "\n",
        "def calculate_area_formula(radius):\n",
        "    area = math.pi * radius ** 2\n",
        "    print(\"Area (reference):\", area)\n",
        "\n",
        "def main():\n",
        "    radius = 400\n",
        "    calculate_area_monte_carlo(radius)\n",
        "    calculate_area_formula(radius)\n",
        "\n",
        "if __name__ == \"__main__\":\n",
        "    main()"
      ],
      "metadata": {
        "colab": {
          "base_uri": "https://localhost:8080/"
        },
        "id": "gcQ2vitnxFuM",
        "outputId": "8f7baca4-fc97-4285-eb3a-2ca02f7a9962"
      },
      "execution_count": 7,
      "outputs": [
        {
          "output_type": "stream",
          "name": "stdout",
          "text": [
            "Area (9999 samples): 508914.8914891489\n",
            "Area (99999 samples): 503992.2399223992\n",
            "Area (150000 samples): 503274.6666666667\n",
            "Area (999999 samples): 502781.9427819428\n",
            "Area (1500000 samples): 502725.9733333333\n",
            "Area (9999999 samples): 502569.4582569458\n",
            "Area (reference): 502654.8245743669\n"
          ]
        }
      ]
    }
  ]
}