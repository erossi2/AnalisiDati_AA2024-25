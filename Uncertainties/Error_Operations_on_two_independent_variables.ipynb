{
  "nbformat": 4,
  "nbformat_minor": 0,
  "metadata": {
    "colab": {
      "provenance": []
    },
    "kernelspec": {
      "name": "python3",
      "display_name": "Python 3"
    },
    "language_info": {
      "name": "python"
    }
  },
  "cells": [
    {
      "cell_type": "markdown",
      "source": [
        "Evaluate the error of the sum of two uncorrelated variables"
      ],
      "metadata": {
        "id": "I_ph1VFrYrij"
      }
    },
    {
      "cell_type": "code",
      "execution_count": 34,
      "metadata": {
        "id": "B1im28iE3HsP"
      },
      "outputs": [],
      "source": [
        "import sympy as sp\n",
        "\n",
        "x, dx = sp.symbols('x dx')\n",
        "y, dy = sp.symbols('y dy')\n",
        "\n",
        "z = x + y\n",
        "dz = sp.sqrt(dx**2 + dy**2)"
      ]
    },
    {
      "cell_type": "code",
      "source": [
        "z_value = z.subs({x: 5, y: 10})\n",
        "dz_value = dz.subs({dx: 0.1, dy: 0.2})\n",
        "dz_value_significant_digits = ['{:g}'.format(float('{:.1g}'.format(dz_value)))]\n",
        "\n",
        "print(\"Sum (z):\", z_value)\n",
        "print(\"Uncertainty of the sum (dz):\", dz_value)\n",
        "print(\"Uncertainty of the sum (dz):\", dz_value_significant_digits)"
      ],
      "metadata": {
        "colab": {
          "base_uri": "https://localhost:8080/"
        },
        "id": "8STdCdnx3RKi",
        "outputId": "48c67d86-db39-43f7-8fce-f9ef65b14792"
      },
      "execution_count": 40,
      "outputs": [
        {
          "output_type": "stream",
          "name": "stdout",
          "text": [
            "Sum (z): 15\n",
            "Uncertainty of the sum (dz): 0.223606797749979\n",
            "Uncertainty of the sum (dz): ['0.2']\n"
          ]
        }
      ]
    },
    {
      "cell_type": "markdown",
      "source": [
        "Evaluate the error of the product of two uncorrelated variables"
      ],
      "metadata": {
        "id": "JduDBLDXY0pC"
      }
    },
    {
      "cell_type": "code",
      "source": [
        "import sympy as sp\n",
        "\n",
        "x, dx = sp.symbols('x dx')\n",
        "y, dy = sp.symbols('y dy')\n",
        "\n",
        "z = x * y\n",
        "dz = sp.sqrt(y**2 * dx**2 + x**2 * dy**2)"
      ],
      "metadata": {
        "id": "ADelD2dnYirE"
      },
      "execution_count": 22,
      "outputs": []
    },
    {
      "cell_type": "code",
      "source": [
        "z_value = z.subs({x: 5, y: 10})\n",
        "dz_value = dz.subs({x: 5, y: 10 , dx: 0.1, dy: 0.2})\n",
        "dz_value_significant_digits = ['{:g}'.format(float('{:.1g}'.format(dz_value)))]\n",
        "\n",
        "print(\"Product (z):\", z_value)\n",
        "print(\"Uncertainty of the product (dz):\", dz_value)\n",
        "print(\"Uncertainty of the product (dz):\", dz_value_significant_digits)"
      ],
      "metadata": {
        "colab": {
          "base_uri": "https://localhost:8080/"
        },
        "id": "bos33frkZFrv",
        "outputId": "cba2451a-75b1-49c9-effe-15d585c34d3b"
      },
      "execution_count": 23,
      "outputs": [
        {
          "output_type": "stream",
          "name": "stdout",
          "text": [
            "Product (z): 50\n",
            "Uncertainty of the product (dz): 1.41421356237310\n",
            "Uncertainty of the product (dz): ['1']\n"
          ]
        }
      ]
    },
    {
      "cell_type": "markdown",
      "source": [
        "Evaluate the error of the ratio of two uncorrelated variables"
      ],
      "metadata": {
        "id": "zub8kqPiZkkC"
      }
    },
    {
      "cell_type": "code",
      "source": [
        "import sympy as sp\n",
        "\n",
        "x, dx = sp.symbols('x dx')\n",
        "y, dy = sp.symbols('y dy')\n",
        "\n",
        "z = x / y\n",
        "dz = sp.sqrt(1/y**2 * dx**2 + x**2/y**2 * dy**2)"
      ],
      "metadata": {
        "id": "0pjJ7psiZhLL"
      },
      "execution_count": 24,
      "outputs": []
    },
    {
      "cell_type": "code",
      "source": [
        "z_value = z.subs({x: 5, y: 10})\n",
        "dz_value = dz.subs({x: 5, y: 10 , dx: 0.1, dy: 0.2})\n",
        "dz_value_significant_digits = ['{:g}'.format(float('{:.1g}'.format(dz_value)))]\n",
        "\n",
        "print(\"Ratio (z):\", z_value)\n",
        "print(\"Uncertainty of the ratio (dz):\", dz_value)\n",
        "print(\"Uncertainty of the ratio (dz):\", dz_value_significant_digits)"
      ],
      "metadata": {
        "colab": {
          "base_uri": "https://localhost:8080/"
        },
        "id": "RhvoPnb3Z8l-",
        "outputId": "1a5af7b8-bbd0-4bac-8829-7e18a427ad19"
      },
      "execution_count": 25,
      "outputs": [
        {
          "output_type": "stream",
          "name": "stdout",
          "text": [
            "Ratio (z): 1/2\n",
            "Uncertainty of the ratio (dz): 0.100498756211209\n",
            "Uncertainty of the ratio (dz): ['0.1']\n"
          ]
        }
      ]
    },
    {
      "cell_type": "code",
      "source": [
        "import sympy as sp\n",
        "\n",
        "x, dx = sp.symbols('x dx')\n",
        "y, dy = sp.symbols('y dy')\n",
        "\n",
        "z = x * sp.exp(-y)\n",
        "\n",
        "dz = sp.sqrt(sp.exp(-y)**2 * dx**2 + x**2 * sp.exp(-y)**2 * dy**2)"
      ],
      "metadata": {
        "id": "mrIlCUlgaTAe"
      },
      "execution_count": 30,
      "outputs": []
    },
    {
      "cell_type": "code",
      "source": [
        "z_value = z.subs({x: 5, y: 10}).evalf()\n",
        "dz_value = dz.subs({x: 5, y: 10 , dx: 0.1, dy: 0.2}).evalf()\n",
        "dz_value_significant_digits = ['{:g}'.format(float('{:.1g}'.format(dz_value)))]\n",
        "\n",
        "print(\"x * exp(y) = (z):\", z_value)\n",
        "print(\"Uncertainty on z (dz):\", dz_value)\n",
        "print(\"Uncertainty on z (dz):\", dz_value_significant_digits)"
      ],
      "metadata": {
        "colab": {
          "base_uri": "https://localhost:8080/"
        },
        "id": "V4v4j63SdOtH",
        "outputId": "a6f6d592-2900-481e-fe47-9756330cd124"
      },
      "execution_count": 31,
      "outputs": [
        {
          "output_type": "stream",
          "name": "stdout",
          "text": [
            "x * exp(y) = (z): 0.000226999648812424\n",
            "Uncertainty on z (dz): 4.56263647320597e-5\n",
            "Uncertainty on z (dz): ['5e-05']\n"
          ]
        }
      ]
    }
  ]
}