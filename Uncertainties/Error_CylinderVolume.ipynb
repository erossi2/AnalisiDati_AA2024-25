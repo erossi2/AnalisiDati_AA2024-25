{
  "nbformat": 4,
  "nbformat_minor": 0,
  "metadata": {
    "colab": {
      "provenance": []
    },
    "kernelspec": {
      "name": "python3",
      "display_name": "Python 3"
    },
    "language_info": {
      "name": "python"
    }
  },
  "cells": [
    {
      "cell_type": "markdown",
      "source": [
        "# ** Error Propagation **\n",
        "\n",
        "Show usage for a simple example: Volume of a cylinder with radius r\n",
        " and height h\n"
      ],
      "metadata": {
        "id": "47l2L7fb85Gc"
      }
    },
    {
      "cell_type": "code",
      "execution_count": 1,
      "metadata": {
        "id": "Kx5A7IKe8wgW"
      },
      "outputs": [],
      "source": [
        "from sympy import *\n",
        "from IPython.display import display, Latex\n"
      ]
    },
    {
      "cell_type": "markdown",
      "source": [
        "SymPy is a Python library for symbolic mathematics: [SymPy](https://docs.sympy.org/latest/index.html)\n",
        "With a special package for Physics: [Physics](https://docs.sympy.org/latest/guides/physics/index.html)\n",
        "and also a module to solve equations: [solve equations](https://docs.sympy.org/latest/guides/solving/index.html)"
      ],
      "metadata": {
        "id": "iqUefuXP9r5S"
      }
    },
    {
      "cell_type": "code",
      "source": [
        "def gaussian_error_propagation(f, vars):\n",
        "    \"\"\"\n",
        "    f: formula (sympy expression)\n",
        "    vars: list of independent variables and corresponding uncertainties\n",
        "    [(x1, sigma_x1), (x2, sigma_x2), ...]\n",
        "    \"\"\"\n",
        "    sum = sympify(\"0\") # empty sympy expression\n",
        "    for (x, sigma) in vars:\n",
        "        sum += diff(f, x)**2 * sigma**2\n",
        "    return sqrt(simplify(sum))"
      ],
      "metadata": {
        "id": "-FPKv60B82Ah"
      },
      "execution_count": 2,
      "outputs": []
    },
    {
      "cell_type": "code",
      "source": [
        "r, h, sigma_r, sigma_h = symbols('r, h, sigma_r, sigma_h', positive=True)\n",
        "V = pi * r**2 * h # volume of a cylinder\n",
        "# error\n",
        "sigma_V = gaussian_error_propagation(V, [(r, sigma_r), (h, sigma_h)])\n",
        "display(Latex(f\"$V = {latex(V)}, \\, \\sigma_V = {latex(sigma_V)}$\"))"
      ],
      "metadata": {
        "colab": {
          "base_uri": "https://localhost:8080/",
          "height": 39
        },
        "id": "XE9hSZHO9Kt7",
        "outputId": "5c5a1325-9749-4f4d-d629-435152d3d75a"
      },
      "execution_count": 4,
      "outputs": [
        {
          "output_type": "display_data",
          "data": {
            "text/plain": [
              "<IPython.core.display.Latex object>"
            ],
            "text/latex": "$V = \\pi h r^{2}, \\, \\sigma_V = \\pi r \\sqrt{4 h^{2} \\sigma_{r}^{2} + r^{2} \\sigma_{h}^{2}}$"
          },
          "metadata": {}
        }
      ]
    },
    {
      "cell_type": "markdown",
      "source": [
        "Plug in some numbers and print the calculated volume with its uncertaity:"
      ],
      "metadata": {
        "id": "g3bOwYa39Tg0"
      }
    },
    {
      "cell_type": "code",
      "source": [
        "r_meas = 10 # cm\n",
        "sigma_r_meas = 0.01 # cm\n",
        "h_meas = 20 # cm\n",
        "sigma_h_meas = 0.1 # cm"
      ],
      "metadata": {
        "id": "0wcSlVaG9asW"
      },
      "execution_count": 7,
      "outputs": []
    },
    {
      "cell_type": "code",
      "source": [
        "central_value = V.subs([(r,r_meas), (h, h_meas)]).evalf()\n",
        "sigma = sigma_V.subs([(r, r_meas), (sigma_r, sigma_r_meas), (h, h_meas), (sigma_h, sigma_h_meas)]).evalf()\n",
        "display(Latex(f\"$$V = ({central_value:0.1f} \\pm {sigma:.1f}) \\, \\mathrm{{cm}}^3$$\"))"
      ],
      "metadata": {
        "colab": {
          "base_uri": "https://localhost:8080/",
          "height": 39
        },
        "id": "JOBtNU9V9ese",
        "outputId": "ddec1629-a100-4779-c59c-235b0ecb7419"
      },
      "execution_count": 8,
      "outputs": [
        {
          "output_type": "display_data",
          "data": {
            "text/plain": [
              "<IPython.core.display.Latex object>"
            ],
            "text/latex": "$$V = (6283.2 \\pm 33.8) \\, \\mathrm{cm}^3$$"
          },
          "metadata": {}
        }
      ]
    }
  ]
}