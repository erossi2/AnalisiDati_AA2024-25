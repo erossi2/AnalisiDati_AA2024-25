{
  "nbformat": 4,
  "nbformat_minor": 0,
  "metadata": {
    "colab": {
      "provenance": []
    },
    "kernelspec": {
      "name": "python3",
      "display_name": "Python 3"
    },
    "language_info": {
      "name": "python"
    }
  },
  "cells": [
    {
      "cell_type": "markdown",
      "source": [
        "# ** Error Propagation for Correlated Variables **\n",
        "\n",
        "Show usage for a simple example: Volume of a cylinder with radius r\n",
        " and height h\n"
      ],
      "metadata": {
        "id": "47l2L7fb85Gc"
      }
    },
    {
      "cell_type": "code",
      "execution_count": 1,
      "metadata": {
        "id": "Kx5A7IKe8wgW"
      },
      "outputs": [],
      "source": [
        "from sympy import *\n",
        "from IPython.display import display, Latex\n"
      ]
    },
    {
      "cell_type": "markdown",
      "source": [
        "SymPy is a Python library for symbolic mathematics: [SymPy](https://docs.sympy.org/latest/index.html)\n",
        "With a special package for Physics: [Physics](https://docs.sympy.org/latest/guides/physics/index.html)\n",
        "and also a module to solve equations: [solve equations](https://docs.sympy.org/latest/guides/solving/index.html)"
      ],
      "metadata": {
        "id": "iqUefuXP9r5S"
      }
    },
    {
      "cell_type": "code",
      "source": [
        "def gaussian_error_propagation_corr(f, x, V):\n",
        "    \"\"\"\n",
        "    f: function f = f(x[0], x[1], ...)\n",
        "    x: list of variables\n",
        "    V: covariance matrix (python 2d list)\n",
        "    \"\"\"\n",
        "    sum = sympify(\"0\") # empty sympy expression\n",
        "    for i in range(len(x)):\n",
        "        for j in range(len(x)):\n",
        "            sum += diff(f, x[i]) * diff(f, x[j]) * V[i][j]\n",
        "    return sqrt(simplify(sum))"
      ],
      "metadata": {
        "id": "-FPKv60B82Ah"
      },
      "execution_count": 3,
      "outputs": []
    },
    {
      "cell_type": "code",
      "source": [
        "r, h, sigma_r, sigma_h = symbols('r, h, sigma_r, sigma_h', positive=True)\n",
        "rho = Symbol(\"rho\", real=True) # correlation coefficient\n",
        "V = pi * r**2 * h # volume of a cylinder"
      ],
      "metadata": {
        "id": "XE9hSZHO9Kt7"
      },
      "execution_count": 4,
      "outputs": []
    },
    {
      "cell_type": "code",
      "source": [
        "vars = [r, h]\n",
        "cov_matrix = [[sigma_r**2, rho * sigma_r * sigma_h],\n",
        "              [rho * sigma_r * sigma_h, sigma_h**2]]\n",
        "Matrix(cov_matrix)"
      ],
      "metadata": {
        "colab": {
          "base_uri": "https://localhost:8080/",
          "height": 58
        },
        "id": "Z00tFnvtBYYs",
        "outputId": "1510aff0-8913-4430-b636-020b377b42ed"
      },
      "execution_count": 5,
      "outputs": [
        {
          "output_type": "execute_result",
          "data": {
            "text/plain": [
              "Matrix([\n",
              "[         sigma_r**2, rho*sigma_h*sigma_r],\n",
              "[rho*sigma_h*sigma_r,          sigma_h**2]])"
            ],
            "text/latex": "$\\displaystyle \\left[\\begin{matrix}\\sigma_{r}^{2} & \\rho \\sigma_{h} \\sigma_{r}\\\\\\rho \\sigma_{h} \\sigma_{r} & \\sigma_{h}^{2}\\end{matrix}\\right]$"
          },
          "metadata": {},
          "execution_count": 5
        }
      ]
    },
    {
      "cell_type": "code",
      "source": [
        "sigma_V = gaussian_error_propagation_corr(V, vars, cov_matrix)\n",
        "display(Latex(f\"$V = {latex(V)}, \\, \\sigma_V = {latex(sigma_V)}$\"))"
      ],
      "metadata": {
        "colab": {
          "base_uri": "https://localhost:8080/",
          "height": 39
        },
        "id": "JzgocdJHBhVb",
        "outputId": "7ebac56a-391b-41fb-87f8-f383cedf78b7"
      },
      "execution_count": 6,
      "outputs": [
        {
          "output_type": "display_data",
          "data": {
            "text/plain": [
              "<IPython.core.display.Latex object>"
            ],
            "text/latex": "$V = \\pi h r^{2}, \\, \\sigma_V = \\pi r \\sqrt{4 h^{2} \\sigma_{r}^{2} + 4 h r \\rho \\sigma_{h} \\sigma_{r} + r^{2} \\sigma_{h}^{2}}$"
          },
          "metadata": {}
        }
      ]
    },
    {
      "cell_type": "markdown",
      "source": [
        "Plug in some numbers and print the calculated volume with its uncertaity:"
      ],
      "metadata": {
        "id": "g3bOwYa39Tg0"
      }
    },
    {
      "cell_type": "code",
      "source": [
        "r_meas = 10 # cm\n",
        "sigma_r_meas = 0.01 # cm\n",
        "h_meas = 20 # cm\n",
        "sigma_h_meas = 0.1 # cm"
      ],
      "metadata": {
        "id": "0wcSlVaG9asW"
      },
      "execution_count": 7,
      "outputs": []
    },
    {
      "cell_type": "code",
      "source": [
        "central_value = V.subs([(r,r_meas), (h, h_meas)]).evalf()\n",
        "sigma = sigma_V.subs([(r, r_meas), (sigma_r, sigma_r_meas), (h, h_meas), (sigma_h, sigma_h_meas)]).evalf()\n",
        "\n",
        "for rho_value in [-1, 0, 1]:\n",
        "    sigma = sigma_V.subs([(r, r_meas), (sigma_r, sigma_r_meas), (h, h_meas), (sigma_h, sigma_h_meas), (rho, rho_value)]).evalf()\n",
        "    display(Latex(f\"$$ \\\\rho = {rho_value}: V = ({central_value:0.1f} \\pm {sigma:.1f}) \\, \\mathrm{{cm}}^3$$\"))"
      ],
      "metadata": {
        "colab": {
          "base_uri": "https://localhost:8080/",
          "height": 83
        },
        "id": "JOBtNU9V9ese",
        "outputId": "728a1384-3aee-4117-9630-0341ef5f52c0"
      },
      "execution_count": 8,
      "outputs": [
        {
          "output_type": "display_data",
          "data": {
            "text/plain": [
              "<IPython.core.display.Latex object>"
            ],
            "text/latex": "$$ \\rho = -1: V = (6283.2 \\pm 18.8) \\, \\mathrm{cm}^3$$"
          },
          "metadata": {}
        },
        {
          "output_type": "display_data",
          "data": {
            "text/plain": [
              "<IPython.core.display.Latex object>"
            ],
            "text/latex": "$$ \\rho = 0: V = (6283.2 \\pm 33.8) \\, \\mathrm{cm}^3$$"
          },
          "metadata": {}
        },
        {
          "output_type": "display_data",
          "data": {
            "text/plain": [
              "<IPython.core.display.Latex object>"
            ],
            "text/latex": "$$ \\rho = 1: V = (6283.2 \\pm 44.0) \\, \\mathrm{cm}^3$$"
          },
          "metadata": {}
        }
      ]
    }
  ]
}